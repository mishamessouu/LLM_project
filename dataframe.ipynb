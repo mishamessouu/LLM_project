{
 "cells": [
  {
   "cell_type": "code",
   "execution_count": null,
   "id": "372f9178",
   "metadata": {},
   "outputs": [
    {
     "name": "stdout",
     "output_type": "stream",
     "text": [
      "                                                    text\n",
      "0      ANDREW HUBERMAN: Welcome\\nto the Huberman Lab ...\n",
      "1      where we discuss science\\nand science-based tools\n",
      "2                                     for everyday life.\n",
      "3                                        [MUSIC PLAYING]\n",
      "4              I'm Andrew Huberman,\\nand I'm a professor\n",
      "...                                                  ...\n",
      "36997           community if you haven't already be sure\n",
      "36998            to subscribe you're going to get weekly\n",
      "36999                videos on building a growth mindset\n",
      "37000           cultivating grit and unlocking your full\n",
      "37001                                          potential\n",
      "\n",
      "[37002 rows x 1 columns]\n"
     ]
    }
   ],
   "source": [
    "import pandas as pd \n",
    "import json\n",
    "\n",
    "with open(\"transcripts_clean.json\", \"r\", encoding=\"utf-8\") as f:\n",
    "    data = json.load(f)\n",
    "\n",
    "df = pd.DataFrame(data)\n",
    "print(df)\n",
    "\n"
   ]
  }
 ],
 "metadata": {
  "kernelspec": {
   "display_name": "Python 3",
   "language": "python",
   "name": "python3"
  },
  "language_info": {
   "codemirror_mode": {
    "name": "ipython",
    "version": 3
   },
   "file_extension": ".py",
   "mimetype": "text/x-python",
   "name": "python",
   "nbconvert_exporter": "python",
   "pygments_lexer": "ipython3",
   "version": "3.11.5"
  }
 },
 "nbformat": 4,
 "nbformat_minor": 5
}
